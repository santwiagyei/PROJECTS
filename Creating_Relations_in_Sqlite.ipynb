{
 "cells": [
  {
   "cell_type": "markdown",
   "metadata": {},
   "source": [
    "# Introduction to the data"
   ]
  },
  {
   "cell_type": "code",
   "execution_count": 1,
   "metadata": {
    "collapsed": false
   },
   "outputs": [
    {
     "name": "stdout",
     "output_type": "stream",
     "text": [
      "(0, u'Year', u'INTEGER', 0, None, 0)\n",
      "(1, u'Category', u'TEXT', 0, None, 0)\n",
      "(2, u'Nominee', u'TEXT', 0, None, 0)\n",
      "(3, u'Won', u'INTEGER', 0, None, 0)\n",
      "(4, u'Movie', u'TEXT', 0, None, 0)\n",
      "(5, u'Character', u'TEXT', 0, None, 0)\n",
      "(2010, u'Actor -- Leading Role', u'Javier Bardem', 0, u'Biutiful', u'Uxbal')\n",
      "(2010, u'Actor -- Leading Role', u'Jeff Bridges', 0, u'True Grit', u'Rooster Cogburn')\n",
      "(2010, u'Actor -- Leading Role', u'Jesse Eisenberg', 0, u'The Social Network', u'Mark Zuckerberg')\n",
      "(2010, u'Actor -- Leading Role', u'Colin Firth', 1, u\"The King's Speech\", u'King George VI')\n",
      "(2010, u'Actor -- Leading Role', u'James Franco', 0, u'127 Hours', u'Aron Ralston')\n",
      "(2010, u'Actor -- Supporting Role', u'Christian Bale', 1, u'The Fighter', u'Dicky Eklund')\n",
      "(2010, u'Actor -- Supporting Role', u'John Hawkes', 0, u\"Winter's Bone\", u'Teardrop')\n",
      "(2010, u'Actor -- Supporting Role', u'Jeremy Renner', 0, u'The Town', u'James Coughlin')\n",
      "(2010, u'Actor -- Supporting Role', u'Mark Ruffalo', 0, u'The Kids Are All Right', u'Paul')\n",
      "(2010, u'Actor -- Supporting Role', u'Geoffrey Rush', 0, u\"The King's Speech\", u'Lionel Logue')\n"
     ]
    }
   ],
   "source": [
    "import sqlite3\n",
    "conn = sqlite3.connect('nominations.db')\n",
    "schema_query = \"pragma table_info(nominations);\"\n",
    "schema = conn.execute(schema_query).fetchall()\n",
    "first_ten_query = '''SELECT * FROM nominations LIMIT 10'''\n",
    "first_ten = conn.execute(first_ten_query).fetchall()\n",
    "\n",
    "for item in schema:\n",
    "    print(item)\n",
    "    \n",
    "for item in first_ten:\n",
    "    print(item)"
   ]
  },
  {
   "cell_type": "markdown",
   "metadata": {
    "collapsed": true
   },
   "source": [
    "# Creating The Ceremonies Table"
   ]
  },
  {
   "cell_type": "code",
   "execution_count": 21,
   "metadata": {
    "collapsed": false
   },
   "outputs": [],
   "source": [
    "ceremony_table_query = \"CREATE TABLE ceremonies(id INTEGER PRIMARY KEY,Year INTEGER, Host TEXT);\"\n",
    "ceremonies = conn.execute(ceremony_table_query)"
   ]
  },
  {
   "cell_type": "code",
   "execution_count": 3,
   "metadata": {
    "collapsed": true
   },
   "outputs": [],
   "source": [
    "years_hosts = [(2010, \"Steve Martin\"),\n",
    "               (2009, \"Hugh Jackman\"),\n",
    "               (2008, \"Jon Stewart\"),\n",
    "               (2007, \"Ellen DeGeneres\"),\n",
    "               (2006, \"Jon Stewart\"),\n",
    "               (2005, \"Chris Rock\"),\n",
    "               (2004, \"Billy Crystal\"),\n",
    "               (2003, \"Steve Martin\"),\n",
    "               (2002, \"Whoopi Goldberg\"),\n",
    "               (2001, \"Steve Martin\"),\n",
    "               (2000, \"Billy Crystal\")]\n",
    "\n",
    "insert_query = \"INSERT INTO ceremonies(Year, Host) VALUES(?,?);\"\n",
    "insert_rows2_ceremonies = conn.executemany(insert_query, years_hosts)"
   ]
  },
  {
   "cell_type": "code",
   "execution_count": 4,
   "metadata": {
    "collapsed": false
   },
   "outputs": [
    {
     "data": {
      "text/plain": [
       "[(1, 2010, u'Steve Martin'),\n",
       " (2, 2009, u'Hugh Jackman'),\n",
       " (3, 2008, u'Jon Stewart'),\n",
       " (4, 2007, u'Ellen DeGeneres'),\n",
       " (5, 2006, u'Jon Stewart'),\n",
       " (6, 2005, u'Chris Rock'),\n",
       " (7, 2004, u'Billy Crystal'),\n",
       " (8, 2003, u'Steve Martin'),\n",
       " (9, 2002, u'Whoopi Goldberg'),\n",
       " (10, 2001, u'Steve Martin')]"
      ]
     },
     "execution_count": 4,
     "metadata": {},
     "output_type": "execute_result"
    }
   ],
   "source": [
    "query = \"SELECT * FROM ceremonies LIMIT 10\"\n",
    "conn.execute(query).fetchall()"
   ]
  },
  {
   "cell_type": "code",
   "execution_count": 5,
   "metadata": {
    "collapsed": false
   },
   "outputs": [
    {
     "data": {
      "text/plain": [
       "[(0, u'id', u'INTEGER', 0, None, 1),\n",
       " (1, u'Year', u'INTEGER', 0, None, 0),\n",
       " (2, u'Host', u'TEXT', 0, None, 0)]"
      ]
     },
     "execution_count": 5,
     "metadata": {},
     "output_type": "execute_result"
    }
   ],
   "source": [
    "pragma_q = \"PRAGMA table_info(ceremonies);\"\n",
    "conn.execute(pragma_q).fetchall()"
   ]
  },
  {
   "cell_type": "markdown",
   "metadata": {},
   "source": [
    "# Foreign Key Constraints"
   ]
  },
  {
   "cell_type": "code",
   "execution_count": 6,
   "metadata": {
    "collapsed": false
   },
   "outputs": [
    {
     "data": {
      "text/plain": [
       "<sqlite3.Cursor at 0x3dee0a0>"
      ]
     },
     "execution_count": 6,
     "metadata": {},
     "output_type": "execute_result"
    }
   ],
   "source": [
    "fkq = \"PRAGMA foreign_keys = ON;\"\n",
    "conn.execute(fkq)"
   ]
  },
  {
   "cell_type": "markdown",
   "metadata": {
    "collapsed": true
   },
   "source": [
    "# Setting Up One-To-Many"
   ]
  },
  {
   "cell_type": "code",
   "execution_count": 7,
   "metadata": {
    "collapsed": true
   },
   "outputs": [],
   "source": [
    "nominations_two_table_query = '''CREATE TABLE nominations_two\n",
    "(id INTEGER PRIMARY KEY,\n",
    "category text, nominee TEXT,\n",
    "movie TEXT,\n",
    "character TEXT,\n",
    "won INTEGER,\n",
    "ceremony_id INTEGER,\n",
    "FOREIGN KEY(ceremony_id) REFERENCES ceremonies(id));'''\n",
    "\n",
    "nominations_two = conn.execute(nominations_two_table_query)"
   ]
  },
  {
   "cell_type": "code",
   "execution_count": 8,
   "metadata": {
    "collapsed": false
   },
   "outputs": [],
   "source": [
    "nominations_two_values = '''SELECT nominations.category, nominations.nominee,\n",
    "nominations.movie, nominations.character, nominations.won,\n",
    "ceremonies.id \n",
    "FROM nominations\n",
    "INNER JOIN ceremonies \n",
    "ON nominations.year == ceremonies.year;'''\n",
    "\n",
    "joined_nominations = conn.execute(nominations_two_values)"
   ]
  },
  {
   "cell_type": "code",
   "execution_count": 9,
   "metadata": {
    "collapsed": false
   },
   "outputs": [],
   "source": [
    "insert_nominations_two_q = '''INSERT INTO nominations_two(category,nominee, movie,\n",
    "character, won, ceremony_id) VALUES(?,?,?,?,?,?);'''\n",
    "insert_nominations_two = conn.executemany(insert_nominations_two_q, joined_nominations )"
   ]
  },
  {
   "cell_type": "code",
   "execution_count": 10,
   "metadata": {
    "collapsed": false
   },
   "outputs": [
    {
     "data": {
      "text/plain": [
       "[(1, u'Actor -- Leading Role', u'Javier Bardem', u'Biutiful', u'Uxbal', 0, 1),\n",
       " (2, u'Actor -- Leading Role', u'Javier Bardem', u'Biutiful', u'Uxbal', 0, 12),\n",
       " (3,\n",
       "  u'Actor -- Leading Role',\n",
       "  u'Jeff Bridges',\n",
       "  u'True Grit',\n",
       "  u'Rooster Cogburn',\n",
       "  0,\n",
       "  1),\n",
       " (4,\n",
       "  u'Actor -- Leading Role',\n",
       "  u'Jeff Bridges',\n",
       "  u'True Grit',\n",
       "  u'Rooster Cogburn',\n",
       "  0,\n",
       "  12),\n",
       " (5,\n",
       "  u'Actor -- Leading Role',\n",
       "  u'Jesse Eisenberg',\n",
       "  u'The Social Network',\n",
       "  u'Mark Zuckerberg',\n",
       "  0,\n",
       "  1)]"
      ]
     },
     "execution_count": 10,
     "metadata": {},
     "output_type": "execute_result"
    }
   ],
   "source": [
    "que = \"SELECT * FROM nominations_two LIMIT 5;\"\n",
    "conn.execute(que).fetchall()"
   ]
  },
  {
   "cell_type": "markdown",
   "metadata": {},
   "source": [
    "# Deleting And Renaming Tables"
   ]
  },
  {
   "cell_type": "code",
   "execution_count": 11,
   "metadata": {
    "collapsed": false
   },
   "outputs": [
    {
     "data": {
      "text/plain": [
       "<sqlite3.Cursor at 0x37a4500>"
      ]
     },
     "execution_count": 11,
     "metadata": {},
     "output_type": "execute_result"
    }
   ],
   "source": [
    "del_query = \"DROP TABLE nominations;\"\n",
    "conn.execute(del_query)"
   ]
  },
  {
   "cell_type": "code",
   "execution_count": 12,
   "metadata": {
    "collapsed": false
   },
   "outputs": [
    {
     "data": {
      "text/plain": [
       "<sqlite3.Cursor at 0x3dee340>"
      ]
     },
     "execution_count": 12,
     "metadata": {},
     "output_type": "execute_result"
    }
   ],
   "source": [
    "rename_query = \"ALTER TABLE nominations_two RENAME TO nominations;\"\n",
    "conn.execute(rename_query)"
   ]
  },
  {
   "cell_type": "code",
   "execution_count": 22,
   "metadata": {
    "collapsed": false
   },
   "outputs": [],
   "source": [
    "# checks to see del and renames\n",
    "#print(conn.execute(\"SELECT * FROM nominations_two LIMIT 5;\").fetchall())\n",
    "\n",
    "#print(conn.execute(\"SELECT * FROM nominations LIMIT 5;\").fetchall())"
   ]
  },
  {
   "cell_type": "markdown",
   "metadata": {
    "collapsed": false
   },
   "source": [
    "# Creating A Join Table"
   ]
  },
  {
   "cell_type": "code",
   "execution_count": 14,
   "metadata": {
    "collapsed": true
   },
   "outputs": [],
   "source": [
    "movies_tab_q = \"CREATE TABLE movies(id INTEGER PRIMARY KEY, movie text)\"\n",
    "create_movies = conn.execute(movies_tab_q)"
   ]
  },
  {
   "cell_type": "code",
   "execution_count": 15,
   "metadata": {
    "collapsed": true
   },
   "outputs": [],
   "source": [
    "actors_tab_q = \"CREATE TABLE actors(id INTEGER PRIMARY KEY, actor text)\"\n",
    "create_actors = conn.execute(actors_tab_q)"
   ]
  },
  {
   "cell_type": "code",
   "execution_count": 17,
   "metadata": {
    "collapsed": false
   },
   "outputs": [
    {
     "data": {
      "text/plain": [
       "<sqlite3.Cursor at 0x3c9bd50>"
      ]
     },
     "execution_count": 17,
     "metadata": {},
     "output_type": "execute_result"
    }
   ],
   "source": [
    "create_movies_actors = '''CREATE TABLE movies_actors (id INTEGER PRIMARY KEY, movie_id INTEGER REFERENCES movies(id),\n",
    "actor_id INTEGER REFERENCES actors(id));'''\n",
    "conn.execute(create_movies_actors)"
   ]
  },
  {
   "cell_type": "code",
   "execution_count": 18,
   "metadata": {
    "collapsed": false
   },
   "outputs": [
    {
     "data": {
      "text/plain": [
       "[(0, u'id', u'INTEGER', 0, None, 1),\n",
       " (1, u'Year', u'INTEGER', 0, None, 0),\n",
       " (2, u'Host', u'TEXT', 0, None, 0)]"
      ]
     },
     "execution_count": 18,
     "metadata": {},
     "output_type": "execute_result"
    }
   ],
   "source": [
    "# checks schemas \n",
    "pragma_q1 = \"PRAGMA table_info(movies);\"\n",
    "conn.execute(pragma_q).fetchall()"
   ]
  },
  {
   "cell_type": "markdown",
   "metadata": {
    "collapsed": true
   },
   "source": [
    "# Populating the movies and actors tables"
   ]
  },
  {
   "cell_type": "code",
   "execution_count": 19,
   "metadata": {
    "collapsed": false
   },
   "outputs": [
    {
     "name": "stdout",
     "output_type": "stream",
     "text": [
      "[(1, u'Biutiful'), (2, u'True Grit'), (3, u'The Social Network'), (4, u\"The King's Speech\"), (5, u'127 Hours')]\n",
      "[(1, u'Javier Bardem'), (2, u'Jeff Bridges'), (3, u'Jesse Eisenberg'), (4, u'Colin Firth'), (5, u'James Franco')]\n"
     ]
    }
   ],
   "source": [
    "insert_movies = \"insert into movies (movie) select distinct movie from nominations;\"\n",
    "insert_actors = \"insert into actors (actor) select distinct nominee from nominations;\"\n",
    "conn.execute(insert_movies)\n",
    "conn.execute(insert_actors)\n",
    "\n",
    "print(conn.execute(\"select * from movies limit 5;\").fetchall())\n",
    "print(conn.execute(\"select * from actors limit 5;\").fetchall())"
   ]
  },
  {
   "cell_type": "markdown",
   "metadata": {},
   "source": [
    "# Populating a join table"
   ]
  },
  {
   "cell_type": "code",
   "execution_count": 20,
   "metadata": {
    "collapsed": false
   },
   "outputs": [
    {
     "name": "stdout",
     "output_type": "stream",
     "text": [
      "[(1, 1, 1), (2, 1, 1), (3, 2, 2), (4, 2, 2), (5, 3, 3)]\n"
     ]
    }
   ],
   "source": [
    "pairs_query = \"select movie,nominee from nominations;\"\n",
    "movie_actor_pairs = conn.execute(pairs_query).fetchall()\n",
    "\n",
    "join_table_insert = '''insert into movies_actors (movie_id, actor_id) values \n",
    "((select id from movies where movie == ?),(select id from actors where actor == ?));'''\n",
    "conn.executemany(join_table_insert,movie_actor_pairs)\n",
    "\n",
    "print(conn.execute(\"select * from movies_actors limit 5;\").fetchall())"
   ]
  }
 ],
 "metadata": {
  "kernelspec": {
   "display_name": "Python [Root]",
   "language": "python",
   "name": "Python [Root]"
  },
  "language_info": {
   "codemirror_mode": {
    "name": "ipython",
    "version": 2
   },
   "file_extension": ".py",
   "mimetype": "text/x-python",
   "name": "python",
   "nbconvert_exporter": "python",
   "pygments_lexer": "ipython2",
   "version": "2.7.12"
  }
 },
 "nbformat": 4,
 "nbformat_minor": 0
}
